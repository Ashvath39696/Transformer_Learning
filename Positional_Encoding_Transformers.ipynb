{
  "nbformat": 4,
  "nbformat_minor": 0,
  "metadata": {
    "colab": {
      "provenance": []
    },
    "kernelspec": {
      "name": "python3",
      "display_name": "Python 3"
    },
    "language_info": {
      "name": "python"
    }
  },
  "cells": [
    {
      "cell_type": "code",
      "execution_count": 14,
      "metadata": {
        "id": "IS2loxzNRIlw"
      },
      "outputs": [],
      "source": [
        "import torch\n",
        "import torch.nn as nn\n",
        "\n",
        "max_seq = 10\n",
        "d_model = 6"
      ]
    },
    {
      "cell_type": "code",
      "source": [
        "even_i = torch.arange(0,d_model,2).float()\n",
        "even_i"
      ],
      "metadata": {
        "colab": {
          "base_uri": "https://localhost:8080/"
        },
        "id": "cP0tVTwsRZDi",
        "outputId": "53d3873c-afcb-4430-95f9-b1cad7cd7917"
      },
      "execution_count": 3,
      "outputs": [
        {
          "output_type": "execute_result",
          "data": {
            "text/plain": [
              "tensor([0., 2., 4.])"
            ]
          },
          "metadata": {},
          "execution_count": 3
        }
      ]
    },
    {
      "cell_type": "code",
      "source": [
        "eve_de = torch.pow(10000,even_i/d_model)\n",
        "eve_de"
      ],
      "metadata": {
        "colab": {
          "base_uri": "https://localhost:8080/"
        },
        "id": "4opx2ee0RlTK",
        "outputId": "d49fca73-26a5-4a18-dae8-4b9be7ee7476"
      },
      "execution_count": 6,
      "outputs": [
        {
          "output_type": "execute_result",
          "data": {
            "text/plain": [
              "tensor([  1.0000,  21.5443, 464.1590])"
            ]
          },
          "metadata": {},
          "execution_count": 6
        }
      ]
    },
    {
      "cell_type": "code",
      "source": [
        "odd_i = torch.arange(0,d_model,2).float()\n",
        "odd_i"
      ],
      "metadata": {
        "colab": {
          "base_uri": "https://localhost:8080/"
        },
        "id": "pjLlvjIbR3QJ",
        "outputId": "9d66dd26-575f-4eaf-dd59-0908509b2622"
      },
      "execution_count": 8,
      "outputs": [
        {
          "output_type": "execute_result",
          "data": {
            "text/plain": [
              "tensor([0., 2., 4.])"
            ]
          },
          "metadata": {},
          "execution_count": 8
        }
      ]
    },
    {
      "cell_type": "code",
      "source": [
        "eve_de = torch.pow(10000,(odd_i-1)/d_model)\n",
        "eve_de"
      ],
      "metadata": {
        "colab": {
          "base_uri": "https://localhost:8080/"
        },
        "id": "zOw3fGqtSOIM",
        "outputId": "547c1768-7589-4911-f40a-40887b3e7d43"
      },
      "execution_count": 12,
      "outputs": [
        {
          "output_type": "execute_result",
          "data": {
            "text/plain": [
              "tensor([  0.2154,   4.6416, 100.0000])"
            ]
          },
          "metadata": {},
          "execution_count": 12
        }
      ]
    },
    {
      "cell_type": "code",
      "source": [
        "position = torch.arange(max_seq,dtype=torch.float).reshape(max_seq,1)\n",
        "position"
      ],
      "metadata": {
        "colab": {
          "base_uri": "https://localhost:8080/"
        },
        "id": "Daw20xHCSW1A",
        "outputId": "acec4322-882f-46d2-d700-0fbc1c555ba8"
      },
      "execution_count": 16,
      "outputs": [
        {
          "output_type": "execute_result",
          "data": {
            "text/plain": [
              "tensor([[0.],\n",
              "        [1.],\n",
              "        [2.],\n",
              "        [3.],\n",
              "        [4.],\n",
              "        [5.],\n",
              "        [6.],\n",
              "        [7.],\n",
              "        [8.],\n",
              "        [9.]])"
            ]
          },
          "metadata": {},
          "execution_count": 16
        }
      ]
    },
    {
      "cell_type": "code",
      "source": [
        "de = eve_de"
      ],
      "metadata": {
        "id": "wY-oK1oPTA73"
      },
      "execution_count": 17,
      "outputs": []
    },
    {
      "cell_type": "code",
      "source": [
        "even_pe = torch.sin(position/de)\n",
        "odd_pe = torch.cos(position/de)"
      ],
      "metadata": {
        "id": "d1fAdLdGSv3h"
      },
      "execution_count": 18,
      "outputs": []
    },
    {
      "cell_type": "code",
      "source": [
        "even_pe"
      ],
      "metadata": {
        "colab": {
          "base_uri": "https://localhost:8080/"
        },
        "id": "hOZJr5m4TGd9",
        "outputId": "dea18218-c890-4760-d658-58f0ba4ddf1b"
      },
      "execution_count": 19,
      "outputs": [
        {
          "output_type": "execute_result",
          "data": {
            "text/plain": [
              "tensor([[ 0.0000,  0.0000,  0.0000],\n",
              "        [-0.9975,  0.2138,  0.0100],\n",
              "        [ 0.1411,  0.4177,  0.0200],\n",
              "        [ 0.9775,  0.6023,  0.0300],\n",
              "        [-0.2794,  0.7590,  0.0400],\n",
              "        [-0.9380,  0.8806,  0.0500],\n",
              "        [ 0.4121,  0.9616,  0.0600],\n",
              "        [ 0.8797,  0.9980,  0.0699],\n",
              "        [-0.5366,  0.9884,  0.0799],\n",
              "        [-0.8038,  0.9330,  0.0899]])"
            ]
          },
          "metadata": {},
          "execution_count": 19
        }
      ]
    },
    {
      "cell_type": "code",
      "source": [
        "stacked = torch.stack([even_pe,odd_pe],dim=2)"
      ],
      "metadata": {
        "id": "mL37xadHTJJN"
      },
      "execution_count": 22,
      "outputs": []
    },
    {
      "cell_type": "code",
      "source": [
        "stacked.shape"
      ],
      "metadata": {
        "colab": {
          "base_uri": "https://localhost:8080/"
        },
        "id": "Hiw6co8bTSQN",
        "outputId": "fda0665f-0202-4a7c-802a-73cdc45b0b99"
      },
      "execution_count": 24,
      "outputs": [
        {
          "output_type": "execute_result",
          "data": {
            "text/plain": [
              "torch.Size([10, 3, 2])"
            ]
          },
          "metadata": {},
          "execution_count": 24
        }
      ]
    },
    {
      "cell_type": "code",
      "source": [
        "PE = torch.flatten(stacked,start_dim=1,end_dim=2)"
      ],
      "metadata": {
        "id": "WMhvyCIITS3M"
      },
      "execution_count": 25,
      "outputs": []
    },
    {
      "cell_type": "code",
      "source": [
        "PE"
      ],
      "metadata": {
        "colab": {
          "base_uri": "https://localhost:8080/"
        },
        "id": "4mTWO75eTniH",
        "outputId": "e41433d2-fbae-4fbc-84ef-99eea3efa14b"
      },
      "execution_count": 26,
      "outputs": [
        {
          "output_type": "execute_result",
          "data": {
            "text/plain": [
              "tensor([[ 0.0000,  1.0000,  0.0000,  1.0000,  0.0000,  1.0000],\n",
              "        [-0.9975, -0.0707,  0.2138,  0.9769,  0.0100,  0.9999],\n",
              "        [ 0.1411, -0.9900,  0.4177,  0.9086,  0.0200,  0.9998],\n",
              "        [ 0.9775,  0.2108,  0.6023,  0.7983,  0.0300,  0.9996],\n",
              "        [-0.2794,  0.9602,  0.7590,  0.6511,  0.0400,  0.9992],\n",
              "        [-0.9380, -0.3467,  0.8806,  0.4738,  0.0500,  0.9988],\n",
              "        [ 0.4121, -0.9111,  0.9616,  0.2746,  0.0600,  0.9982],\n",
              "        [ 0.8797,  0.4756,  0.9980,  0.0627,  0.0699,  0.9976],\n",
              "        [-0.5366,  0.8438,  0.9884, -0.1522,  0.0799,  0.9968],\n",
              "        [-0.8038, -0.5949,  0.9330, -0.3599,  0.0899,  0.9960]])"
            ]
          },
          "metadata": {},
          "execution_count": 26
        }
      ]
    },
    {
      "cell_type": "markdown",
      "source": [
        "Class"
      ],
      "metadata": {
        "id": "-eUjakEsTn-7"
      }
    },
    {
      "cell_type": "code",
      "source": [
        "import torch\n",
        "import torch.nn as nn\n",
        "\n",
        "class PositionalEncoding(nn.Module):\n",
        "\n",
        "    def __init__(self, d_model, max_sequence_length):\n",
        "        super().__init__()\n",
        "        self.max_sequence_length = max_sequence_length\n",
        "        self.d_model = d_model\n",
        "\n",
        "    def forward(self):\n",
        "        even_i = torch.arange(0, self.d_model, 2).float()\n",
        "        denominator = torch.pow(10000, even_i/self.d_model)\n",
        "        position = torch.arange(self.max_sequence_length).reshape(self.max_sequence_length, 1)\n",
        "        even_PE = torch.sin(position / denominator)\n",
        "        odd_PE = torch.cos(position / denominator)\n",
        "        stacked = torch.stack([even_PE, odd_PE], dim=2)\n",
        "        PE = torch.flatten(stacked, start_dim=1, end_dim=2)\n",
        "        return PE"
      ],
      "metadata": {
        "id": "TQf943kEU02i"
      },
      "execution_count": 27,
      "outputs": []
    },
    {
      "cell_type": "code",
      "source": [
        "pe = PositionalEncoding(d_model=6, max_sequence_length=10)\n",
        "pe.forward()"
      ],
      "metadata": {
        "colab": {
          "base_uri": "https://localhost:8080/"
        },
        "id": "ni0hWybkU1wa",
        "outputId": "7412baf9-1672-4e1a-d349-5d669297cedb"
      },
      "execution_count": 28,
      "outputs": [
        {
          "output_type": "execute_result",
          "data": {
            "text/plain": [
              "tensor([[ 0.0000,  1.0000,  0.0000,  1.0000,  0.0000,  1.0000],\n",
              "        [ 0.8415,  0.5403,  0.0464,  0.9989,  0.0022,  1.0000],\n",
              "        [ 0.9093, -0.4161,  0.0927,  0.9957,  0.0043,  1.0000],\n",
              "        [ 0.1411, -0.9900,  0.1388,  0.9903,  0.0065,  1.0000],\n",
              "        [-0.7568, -0.6536,  0.1846,  0.9828,  0.0086,  1.0000],\n",
              "        [-0.9589,  0.2837,  0.2300,  0.9732,  0.0108,  0.9999],\n",
              "        [-0.2794,  0.9602,  0.2749,  0.9615,  0.0129,  0.9999],\n",
              "        [ 0.6570,  0.7539,  0.3192,  0.9477,  0.0151,  0.9999],\n",
              "        [ 0.9894, -0.1455,  0.3629,  0.9318,  0.0172,  0.9999],\n",
              "        [ 0.4121, -0.9111,  0.4057,  0.9140,  0.0194,  0.9998]])"
            ]
          },
          "metadata": {},
          "execution_count": 28
        }
      ]
    },
    {
      "cell_type": "code",
      "source": [],
      "metadata": {
        "id": "60doFNrmU6-H"
      },
      "execution_count": null,
      "outputs": []
    }
  ]
}