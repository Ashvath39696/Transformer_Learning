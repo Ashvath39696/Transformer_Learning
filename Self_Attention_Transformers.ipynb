{
  "nbformat": 4,
  "nbformat_minor": 0,
  "metadata": {
    "colab": {
      "provenance": []
    },
    "kernelspec": {
      "name": "python3",
      "display_name": "Python 3"
    },
    "language_info": {
      "name": "python"
    }
  },
  "cells": [
    {
      "cell_type": "code",
      "execution_count": null,
      "metadata": {
        "id": "ysIEQT7mVG-p"
      },
      "outputs": [],
      "source": []
    },
    {
      "cell_type": "markdown",
      "source": [
        "Self Attention"
      ],
      "metadata": {
        "id": "s-MjyKf1VLji"
      }
    },
    {
      "cell_type": "code",
      "source": [
        "import numpy as np\n",
        "import math\n",
        "\n",
        "L,d_k,d_v = 4,8,8\n",
        "\n",
        "q = np.random.randn(L,d_k)\n",
        "k = np.random.randn(L,d_k)\n",
        "v = np.random.randn(L,d_v)\n"
      ],
      "metadata": {
        "id": "OnNshtaiVQNX"
      },
      "execution_count": 3,
      "outputs": []
    },
    {
      "cell_type": "code",
      "source": [
        "print(\"Q\",q)\n",
        "print(\"K\",k)\n",
        "print(\"V\",v)"
      ],
      "metadata": {
        "colab": {
          "base_uri": "https://localhost:8080/"
        },
        "id": "2mQ1046eVc7h",
        "outputId": "6c06d63e-b7fb-4495-e8ff-858ace1d9cd6"
      },
      "execution_count": 6,
      "outputs": [
        {
          "output_type": "stream",
          "name": "stdout",
          "text": [
            "Q [[ 0.1541723  -0.51909703 -0.51559703 -1.69764132  0.2017234   0.31568354\n",
            "   0.20683006 -2.03790404]\n",
            " [-0.66185213  0.46778718  0.63934674  4.10622944  1.4071622   1.47155435\n",
            "  -0.95312512  0.15822869]\n",
            " [ 0.1619455   1.06376764  0.48680381 -0.76430452  0.78177303  0.48341978\n",
            "   1.46749863 -0.95412759]\n",
            " [-0.68656016 -0.29716108 -1.37064051  0.18536215  1.21279477 -1.9587999\n",
            "  -0.33737227 -0.72329303]]\n",
            "K [[-0.00310336  0.3601577   1.29680782 -0.14949353  1.96017698 -0.35329291\n",
            "  -0.24717491  0.81741633]\n",
            " [ 0.62522138  0.93320564  0.27947318 -0.67914129 -1.30924603 -2.00512315\n",
            "   0.76153716 -0.48753414]\n",
            " [ 0.46146039  1.48778526  0.10413151 -0.9730548  -0.06406295  2.25118308\n",
            "  -0.02425819  0.05997752]\n",
            " [-1.21814955 -1.10212295  1.83493776 -0.32438465  0.19732738 -1.54649501\n",
            "   0.35019345  0.91052017]]\n",
            "V [[ 0.82740481 -1.2570743  -1.26607422 -0.05761555 -0.11865103 -0.99178985\n",
            "   0.57169046 -0.01855821]\n",
            " [-0.83945929  0.73554347  0.24768139  0.36816736  1.03298549 -0.55985484\n",
            "  -0.79336458 -1.57212489]\n",
            " [-0.11809004 -0.04100016  1.13906952  1.27193119 -0.40400074 -1.90833789\n",
            "  -0.82325747  1.53968016]\n",
            " [-0.51328513  0.18667378  0.52620047  1.71477694  1.07851672  0.40685619\n",
            "  -0.23471314  0.63103166]]\n"
          ]
        }
      ]
    },
    {
      "cell_type": "code",
      "source": [
        "np.matmul(q,k.T)"
      ],
      "metadata": {
        "colab": {
          "base_uri": "https://localhost:8080/"
        },
        "id": "br0rTCquWwmb",
        "outputId": "4e47ad24-fbdc-4772-ff42-dae3dfdd6e46"
      },
      "execution_count": 9,
      "outputs": [
        {
          "output_type": "execute_result",
          "data": {
            "text/plain": [
              "array([[-2.03533354,  0.87477695,  1.46754033, -2.24261553],\n",
              "       [ 2.98911081, -8.18324348, -0.28325923, -2.05594802],\n",
              "       [ 1.34714751,  1.33896022,  3.39714972, -1.17667828],\n",
              "       [ 0.65141893,  1.21998797, -5.60453629,  1.08054574]])"
            ]
          },
          "metadata": {},
          "execution_count": 9
        }
      ]
    },
    {
      "cell_type": "code",
      "source": [
        "q.var(),k.var(),np.matmul(q,k.T).var()"
      ],
      "metadata": {
        "colab": {
          "base_uri": "https://localhost:8080/"
        },
        "id": "o10vhPvhXeFn",
        "outputId": "0b600e96-b45a-45d6-ba47-de6496eb04f0"
      },
      "execution_count": 10,
      "outputs": [
        {
          "output_type": "execute_result",
          "data": {
            "text/plain": [
              "(1.4068255057676113, 1.0107596455063963, 8.75429258008508)"
            ]
          },
          "metadata": {},
          "execution_count": 10
        }
      ]
    },
    {
      "cell_type": "code",
      "source": [
        "scaled = np.matmul(q,k.T)/np.sqrt(d_k)"
      ],
      "metadata": {
        "id": "3__yiIiWYOW-"
      },
      "execution_count": 11,
      "outputs": []
    },
    {
      "cell_type": "code",
      "source": [
        "scaled.var()"
      ],
      "metadata": {
        "colab": {
          "base_uri": "https://localhost:8080/"
        },
        "id": "Oq-mZorzYoGt",
        "outputId": "726b4283-5833-453e-f590-7e223b798174"
      },
      "execution_count": 12,
      "outputs": [
        {
          "output_type": "execute_result",
          "data": {
            "text/plain": [
              "1.0942865725106348"
            ]
          },
          "metadata": {},
          "execution_count": 12
        }
      ]
    },
    {
      "cell_type": "markdown",
      "source": [
        "II Masking"
      ],
      "metadata": {
        "id": "hc7C7ePEY5bB"
      }
    },
    {
      "cell_type": "code",
      "source": [
        "mask = np.tril(np.ones((L,L)))\n",
        "mask"
      ],
      "metadata": {
        "colab": {
          "base_uri": "https://localhost:8080/"
        },
        "id": "Id7EScxVYp2-",
        "outputId": "c3a70ba5-a535-4c7c-9c80-5c2bf857ced9"
      },
      "execution_count": 14,
      "outputs": [
        {
          "output_type": "execute_result",
          "data": {
            "text/plain": [
              "array([[1., 0., 0., 0.],\n",
              "       [1., 1., 0., 0.],\n",
              "       [1., 1., 1., 0.],\n",
              "       [1., 1., 1., 1.]])"
            ]
          },
          "metadata": {},
          "execution_count": 14
        }
      ]
    },
    {
      "cell_type": "code",
      "source": [
        "mask[mask==0] = -np.infty\n",
        "mask[mask==1] = 0\n",
        "mask"
      ],
      "metadata": {
        "colab": {
          "base_uri": "https://localhost:8080/"
        },
        "id": "GyIRsJHqYzyU",
        "outputId": "de3c2539-06ca-480e-8a94-0e8126817af2"
      },
      "execution_count": 17,
      "outputs": [
        {
          "output_type": "execute_result",
          "data": {
            "text/plain": [
              "array([[  0., -inf, -inf, -inf],\n",
              "       [  0.,   0., -inf, -inf],\n",
              "       [  0.,   0.,   0., -inf],\n",
              "       [  0.,   0.,   0.,   0.]])"
            ]
          },
          "metadata": {},
          "execution_count": 17
        }
      ]
    },
    {
      "cell_type": "code",
      "source": [
        "scaled + mask"
      ],
      "metadata": {
        "colab": {
          "base_uri": "https://localhost:8080/"
        },
        "id": "1Tt1BQL0ZmBl",
        "outputId": "e1e3fb9b-c496-4085-b8f5-e374a2c2f972"
      },
      "execution_count": 18,
      "outputs": [
        {
          "output_type": "execute_result",
          "data": {
            "text/plain": [
              "array([[-0.71959907,        -inf,        -inf,        -inf],\n",
              "       [ 1.05681026, -2.89321348,        -inf,        -inf],\n",
              "       [ 0.47628857,  0.47339393,  1.2010738 ,        -inf],\n",
              "       [ 0.23031137,  0.43133088, -1.98150281,  0.38203061]])"
            ]
          },
          "metadata": {},
          "execution_count": 18
        }
      ]
    },
    {
      "cell_type": "code",
      "source": [
        "def softmax(x):\n",
        "    return (np.exp(x).T/np.sum(np.exp(x),axis=-1)).T\n"
      ],
      "metadata": {
        "id": "tKaB6Z8ZZ4I5"
      },
      "execution_count": 22,
      "outputs": []
    },
    {
      "cell_type": "code",
      "source": [
        "attention = softmax(scaled+mask)"
      ],
      "metadata": {
        "id": "FU8SKjiWcQZW"
      },
      "execution_count": 23,
      "outputs": []
    },
    {
      "cell_type": "code",
      "source": [
        "attention"
      ],
      "metadata": {
        "colab": {
          "base_uri": "https://localhost:8080/"
        },
        "id": "BCZnUm44cZgL",
        "outputId": "8490cff6-516a-4547-da49-0d63da8937db"
      },
      "execution_count": 24,
      "outputs": [
        {
          "output_type": "execute_result",
          "data": {
            "text/plain": [
              "array([[1.        , 0.        , 0.        , 0.        ],\n",
              "       [0.98110948, 0.01889052, 0.        , 0.        ],\n",
              "       [0.24622068, 0.24550899, 0.50827033, 0.        ],\n",
              "       [0.28604251, 0.34972948, 0.03132217, 0.33290584]])"
            ]
          },
          "metadata": {},
          "execution_count": 24
        }
      ]
    },
    {
      "cell_type": "code",
      "source": [
        "self_att = np.matmul(attention,v)\n",
        "self_att"
      ],
      "metadata": {
        "colab": {
          "base_uri": "https://localhost:8080/"
        },
        "id": "PC5xhgdKcbGN",
        "outputId": "1a1c9647-3f05-4f2a-988a-714bf5d36600"
      },
      "execution_count": 25,
      "outputs": [
        {
          "output_type": "execute_result",
          "data": {
            "text/plain": [
              "array([[ 0.82740481, -1.2570743 , -1.26607422, -0.05761555, -0.11865103,\n",
              "        -0.99178985,  0.57169046, -0.01855821],\n",
              "       [ 0.79591688, -1.21943271, -1.23747859, -0.04957229, -0.09689602,\n",
              "        -0.98363037,  0.54590385, -0.0479059 ],\n",
              "       [-0.06239229, -0.14977432,  0.32802959,  0.72268714,  0.0190513 ,\n",
              "        -1.3516001 , -0.47245347,  0.39203353],\n",
              "       [-0.23148517, -0.04147487, -0.06467622,  0.72297739,  0.67371657,\n",
              "        -0.40382029, -0.2178588 , -0.29682661]])"
            ]
          },
          "metadata": {},
          "execution_count": 25
        }
      ]
    },
    {
      "cell_type": "code",
      "source": [
        "def softmax(x):\n",
        "    return(np.exp(x).T/np.sum(np.exp(x),axis=-1)).T\n",
        "\n",
        "def self_atten(q,k,v,mask=None):\n",
        "    d_k = q.shape[-1]\n",
        "    scaled = np.matmul(q,k.T)\n",
        "    if mask is not None:\n",
        "        scaled += mask\n",
        "    attention = softmax(scaled)\n",
        "    V = np.matmul(attention,v)\n",
        "    return V , attention\n"
      ],
      "metadata": {
        "id": "Xc5OqTKIdhzO"
      },
      "execution_count": 30,
      "outputs": []
    },
    {
      "cell_type": "code",
      "source": [
        "import numpy as np\n",
        "import math\n",
        "\n",
        "L,d_k,d_v = 4,8,8\n",
        "\n",
        "q = np.random.randn(L,d_k)\n",
        "k = np.random.randn(L,d_k)\n",
        "v = np.random.randn(L,d_v)\n",
        "\n",
        "val,att = self_atten(q,k,v)\n",
        "print(att)\n",
        "print(val)"
      ],
      "metadata": {
        "colab": {
          "base_uri": "https://localhost:8080/"
        },
        "id": "55sL-mn2h2bn",
        "outputId": "3a87de46-d527-474f-b7a4-206fbb0ad2ca"
      },
      "execution_count": 32,
      "outputs": [
        {
          "output_type": "stream",
          "name": "stdout",
          "text": [
            "[[4.90710760e-03 9.14721889e-02 6.59366208e-06 9.03614110e-01]\n",
            " [1.99369558e-01 2.98664225e-01 1.39184684e-01 3.62781532e-01]\n",
            " [3.62516394e-01 1.03388724e-01 1.33353398e-01 4.00741484e-01]\n",
            " [1.05395565e-02 6.78533333e-01 1.73272255e-01 1.37654856e-01]]\n",
            "[[-1.35011073 -0.20092601 -1.46398351 -0.91852437  1.82891154  0.40058442\n",
            "   0.76431602 -1.25207882]\n",
            " [-0.6965227  -0.32949465 -0.50889719 -0.27384133  0.94884947 -0.09032792\n",
            "   0.87389179 -1.05204293]\n",
            " [-1.29030718 -0.1478759  -0.53932545 -0.00756225  0.76453083  0.0758605\n",
            "   0.83501292 -1.1657984 ]\n",
            " [ 0.46840937 -0.66072792 -0.14790408 -0.46742204  0.95479584 -0.53074652\n",
            "   0.99299288 -0.8198303 ]]\n"
          ]
        }
      ]
    },
    {
      "cell_type": "code",
      "source": [],
      "metadata": {
        "id": "ordKlA4ch-wp"
      },
      "execution_count": null,
      "outputs": []
    },
    {
      "cell_type": "code",
      "source": [],
      "metadata": {
        "id": "dqWlE-ijMRoT"
      },
      "execution_count": null,
      "outputs": []
    }
  ]
}