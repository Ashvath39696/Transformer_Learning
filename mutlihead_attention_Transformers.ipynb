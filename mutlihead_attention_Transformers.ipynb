{
  "nbformat": 4,
  "nbformat_minor": 0,
  "metadata": {
    "colab": {
      "provenance": []
    },
    "kernelspec": {
      "name": "python3",
      "display_name": "Python 3"
    },
    "language_info": {
      "name": "python"
    }
  },
  "cells": [
    {
      "cell_type": "code",
      "execution_count": 1,
      "metadata": {
        "id": "WZAHcatrKC6V"
      },
      "outputs": [],
      "source": [
        "import numpy\n",
        "import torch\n",
        "import torch.nn as nn\n",
        "import torch.nn.functional as F"
      ]
    },
    {
      "cell_type": "code",
      "source": [
        "sequence_length = 4\n",
        "batch_size = 1\n",
        "input_dim = 512\n",
        "d_model = 512\n",
        "\n",
        "x = torch.randn(batch_size, sequence_length,input_dim)"
      ],
      "metadata": {
        "id": "E14sX6BsLQeT"
      },
      "execution_count": 2,
      "outputs": []
    },
    {
      "cell_type": "code",
      "source": [
        "x.size()"
      ],
      "metadata": {
        "colab": {
          "base_uri": "https://localhost:8080/"
        },
        "id": "xk_nYJcaL5mq",
        "outputId": "471f26e7-92b9-4269-a657-85617b6a4b6f"
      },
      "execution_count": 3,
      "outputs": [
        {
          "output_type": "execute_result",
          "data": {
            "text/plain": [
              "torch.Size([1, 4, 512])"
            ]
          },
          "metadata": {},
          "execution_count": 3
        }
      ]
    },
    {
      "cell_type": "code",
      "source": [
        "qkv_layer = nn.Linear(input_dim,3*d_model)"
      ],
      "metadata": {
        "id": "9IIgJE1wMCAX"
      },
      "execution_count": 4,
      "outputs": []
    },
    {
      "cell_type": "code",
      "source": [
        "qkv = qkv_layer(x)"
      ],
      "metadata": {
        "id": "UzxupG0GMxc-"
      },
      "execution_count": 5,
      "outputs": []
    },
    {
      "cell_type": "code",
      "source": [
        "qkv.size()"
      ],
      "metadata": {
        "colab": {
          "base_uri": "https://localhost:8080/"
        },
        "id": "ucAi13YlfE2O",
        "outputId": "15616117-26a4-444c-b1a9-80b7178aaa67"
      },
      "execution_count": 7,
      "outputs": [
        {
          "output_type": "execute_result",
          "data": {
            "text/plain": [
              "torch.Size([1, 4, 1536])"
            ]
          },
          "metadata": {},
          "execution_count": 7
        }
      ]
    },
    {
      "cell_type": "code",
      "source": [
        "num_head = 8\n",
        "head_dim = d_model//num_head\n",
        "qkv = qkv.reshape(batch_size,sequence_length,num_head,3*head_dim)"
      ],
      "metadata": {
        "id": "Gp98GoFpfHuK"
      },
      "execution_count": 8,
      "outputs": []
    },
    {
      "cell_type": "code",
      "source": [
        "qkv.size()"
      ],
      "metadata": {
        "colab": {
          "base_uri": "https://localhost:8080/"
        },
        "id": "zcv02YhvgMeM",
        "outputId": "cb7b4e94-2bc5-4dfb-f6e6-da982437c1ad"
      },
      "execution_count": 9,
      "outputs": [
        {
          "output_type": "execute_result",
          "data": {
            "text/plain": [
              "torch.Size([1, 4, 8, 192])"
            ]
          },
          "metadata": {},
          "execution_count": 9
        }
      ]
    },
    {
      "cell_type": "code",
      "source": [
        "qkv = qkv.permute(0,2,1,3)\n",
        "qkv.size()"
      ],
      "metadata": {
        "colab": {
          "base_uri": "https://localhost:8080/"
        },
        "id": "Cb3IR_DIgN1X",
        "outputId": "b2df5374-67ea-4d74-93a2-ccfaad212569"
      },
      "execution_count": 15,
      "outputs": [
        {
          "output_type": "execute_result",
          "data": {
            "text/plain": [
              "torch.Size([1, 8, 4, 192])"
            ]
          },
          "metadata": {},
          "execution_count": 15
        }
      ]
    },
    {
      "cell_type": "code",
      "source": [
        "q,k,v = qkv.chunk(3,dim=-1)\n",
        "q.shape,k.shape,v.shape"
      ],
      "metadata": {
        "colab": {
          "base_uri": "https://localhost:8080/"
        },
        "id": "nNdtcaXdge7J",
        "outputId": "a41cc404-d5a2-4d9a-dd69-b67ed232c7ad"
      },
      "execution_count": 13,
      "outputs": [
        {
          "output_type": "execute_result",
          "data": {
            "text/plain": [
              "(torch.Size([1, 8, 4, 64]),\n",
              " torch.Size([1, 8, 4, 64]),\n",
              " torch.Size([1, 8, 4, 64]))"
            ]
          },
          "metadata": {},
          "execution_count": 13
        }
      ]
    },
    {
      "cell_type": "code",
      "source": [
        "import math"
      ],
      "metadata": {
        "id": "_5fKBlJ0i2gz"
      },
      "execution_count": 19,
      "outputs": []
    },
    {
      "cell_type": "code",
      "source": [
        "d_k = q.size()[-1]\n",
        "scaled = torch.matmul(q,k.transpose(-2,-1)) / math.sqrt(d_k)\n",
        "scaled.shape"
      ],
      "metadata": {
        "colab": {
          "base_uri": "https://localhost:8080/"
        },
        "id": "gfUClOGJhiEj",
        "outputId": "7c760b3a-43fe-44b6-f691-2835f39d399d"
      },
      "execution_count": 24,
      "outputs": [
        {
          "output_type": "execute_result",
          "data": {
            "text/plain": [
              "torch.Size([1, 8, 4, 4])"
            ]
          },
          "metadata": {},
          "execution_count": 24
        }
      ]
    },
    {
      "cell_type": "code",
      "source": [
        "mask = torch.full(scaled.size(),float('-inf'))\n",
        "mask = torch.triu(mask,diagonal=1)\n",
        "mask[0][1]"
      ],
      "metadata": {
        "colab": {
          "base_uri": "https://localhost:8080/"
        },
        "id": "mCyfYZpFib2D",
        "outputId": "a19965d2-b58a-4dea-b4ab-f2a4e62fea52"
      },
      "execution_count": 25,
      "outputs": [
        {
          "output_type": "execute_result",
          "data": {
            "text/plain": [
              "tensor([[0., -inf, -inf, -inf],\n",
              "        [0., 0., -inf, -inf],\n",
              "        [0., 0., 0., -inf],\n",
              "        [0., 0., 0., 0.]])"
            ]
          },
          "metadata": {},
          "execution_count": 25
        }
      ]
    },
    {
      "cell_type": "code",
      "source": [
        "scaled+mask[0][0]"
      ],
      "metadata": {
        "colab": {
          "base_uri": "https://localhost:8080/"
        },
        "id": "gdvSzLyjkE0A",
        "outputId": "13901260-caf9-4764-f6a2-25b49a3ff002"
      },
      "execution_count": 28,
      "outputs": [
        {
          "output_type": "execute_result",
          "data": {
            "text/plain": [
              "tensor([[[[ 1.0154e-01,        -inf,        -inf,        -inf],\n",
              "          [ 3.6130e-01, -1.4847e-01,        -inf,        -inf],\n",
              "          [-1.8076e-01,  3.2821e-01,  1.7455e-01,        -inf],\n",
              "          [ 3.2415e-02,  1.1816e-01,  2.4722e-01, -2.9844e-02]],\n",
              "\n",
              "         [[-2.0668e-01,        -inf,        -inf,        -inf],\n",
              "          [-2.7394e-01,  2.1942e-01,        -inf,        -inf],\n",
              "          [-1.5957e-01, -2.8030e-01, -3.9850e-02,        -inf],\n",
              "          [ 1.4530e-01, -2.1599e-01,  1.1453e-01, -4.2530e-01]],\n",
              "\n",
              "         [[-6.7421e-02,        -inf,        -inf,        -inf],\n",
              "          [-6.6072e-01,  2.7708e-02,        -inf,        -inf],\n",
              "          [ 2.2837e-01,  1.7095e-01, -2.4681e-01,        -inf],\n",
              "          [-1.9716e-01,  7.1135e-02, -2.2222e-01,  3.1593e-01]],\n",
              "\n",
              "         [[ 2.9641e-01,        -inf,        -inf,        -inf],\n",
              "          [ 4.9337e-01, -8.1680e-01,        -inf,        -inf],\n",
              "          [-3.3092e-01, -1.4306e-01, -1.1627e-01,        -inf],\n",
              "          [-1.5345e-01, -3.0604e-02, -5.3089e-01, -1.1624e-01]],\n",
              "\n",
              "         [[-4.1695e-01,        -inf,        -inf,        -inf],\n",
              "          [-7.9757e-01, -2.4981e-01,        -inf,        -inf],\n",
              "          [ 2.1925e-02, -2.0661e-01, -2.3089e-01,        -inf],\n",
              "          [ 2.4061e-01,  1.4348e-01,  1.2001e-01, -2.1910e-01]],\n",
              "\n",
              "         [[-4.5711e-01,        -inf,        -inf,        -inf],\n",
              "          [-3.3920e-01,  1.1423e-01,        -inf,        -inf],\n",
              "          [-5.3592e-01,  4.1790e-01,  2.6751e-01,        -inf],\n",
              "          [ 2.7675e-01,  2.6983e-01, -3.3336e-04, -8.9386e-01]],\n",
              "\n",
              "         [[ 4.3727e-01,        -inf,        -inf,        -inf],\n",
              "          [ 7.1432e-01,  2.2036e-01,        -inf,        -inf],\n",
              "          [ 2.0985e-01,  2.9067e-01, -4.4530e-02,        -inf],\n",
              "          [ 3.1227e-01,  3.4322e-02,  2.2257e-01, -3.8280e-01]],\n",
              "\n",
              "         [[ 1.5151e-01,        -inf,        -inf,        -inf],\n",
              "          [ 4.6220e-01, -6.1040e-01,        -inf,        -inf],\n",
              "          [-4.2366e-01,  1.7672e-01, -8.7743e-02,        -inf],\n",
              "          [ 3.3591e-01, -2.8850e-01, -3.3523e-01,  6.6462e-02]]]],\n",
              "       grad_fn=<AddBackward0>)"
            ]
          },
          "metadata": {},
          "execution_count": 28
        }
      ]
    },
    {
      "cell_type": "code",
      "source": [
        "scaled+=mask"
      ],
      "metadata": {
        "id": "0PqiFTYuqJdO"
      },
      "execution_count": 31,
      "outputs": []
    },
    {
      "cell_type": "code",
      "source": [
        "attention = F.softmax(scaled,dim=-1)"
      ],
      "metadata": {
        "id": "qwhpBAQYpbym"
      },
      "execution_count": 32,
      "outputs": []
    },
    {
      "cell_type": "code",
      "source": [
        "attention"
      ],
      "metadata": {
        "colab": {
          "base_uri": "https://localhost:8080/"
        },
        "id": "-Ha-AiK-p-_L",
        "outputId": "23f8e9c1-9228-4a43-90e5-44a5e2c30969"
      },
      "execution_count": 33,
      "outputs": [
        {
          "output_type": "execute_result",
          "data": {
            "text/plain": [
              "tensor([[[[1.0000, 0.0000, 0.0000, 0.0000],\n",
              "          [0.6248, 0.3752, 0.0000, 0.0000],\n",
              "          [0.2445, 0.4067, 0.3488, 0.0000],\n",
              "          [0.2343, 0.2552, 0.2904, 0.2201]],\n",
              "\n",
              "         [[1.0000, 0.0000, 0.0000, 0.0000],\n",
              "          [0.3791, 0.6209, 0.0000, 0.0000],\n",
              "          [0.3318, 0.2941, 0.3740, 0.0000],\n",
              "          [0.3094, 0.2156, 0.3001, 0.1749]],\n",
              "\n",
              "         [[1.0000, 0.0000, 0.0000, 0.0000],\n",
              "          [0.3344, 0.6656, 0.0000, 0.0000],\n",
              "          [0.3897, 0.3680, 0.2423, 0.0000],\n",
              "          [0.2019, 0.2640, 0.1969, 0.3372]],\n",
              "\n",
              "         [[1.0000, 0.0000, 0.0000, 0.0000],\n",
              "          [0.7875, 0.2125, 0.0000, 0.0000],\n",
              "          [0.2902, 0.3502, 0.3597, 0.0000],\n",
              "          [0.2595, 0.2934, 0.1779, 0.2693]],\n",
              "\n",
              "         [[1.0000, 0.0000, 0.0000, 0.0000],\n",
              "          [0.3664, 0.6336, 0.0000, 0.0000],\n",
              "          [0.3888, 0.3093, 0.3019, 0.0000],\n",
              "          [0.2919, 0.2649, 0.2588, 0.1844]],\n",
              "\n",
              "         [[1.0000, 0.0000, 0.0000, 0.0000],\n",
              "          [0.3885, 0.6115, 0.0000, 0.0000],\n",
              "          [0.1716, 0.4453, 0.3831, 0.0000],\n",
              "          [0.3267, 0.3244, 0.2476, 0.1013]],\n",
              "\n",
              "         [[1.0000, 0.0000, 0.0000, 0.0000],\n",
              "          [0.6210, 0.3790, 0.0000, 0.0000],\n",
              "          [0.3497, 0.3791, 0.2712, 0.0000],\n",
              "          [0.3154, 0.2389, 0.2883, 0.1574]],\n",
              "\n",
              "         [[1.0000, 0.0000, 0.0000, 0.0000],\n",
              "          [0.7451, 0.2549, 0.0000, 0.0000],\n",
              "          [0.2369, 0.4317, 0.3314, 0.0000],\n",
              "          [0.3558, 0.1906, 0.1819, 0.2718]]]], grad_fn=<SoftmaxBackward0>)"
            ]
          },
          "metadata": {},
          "execution_count": 33
        }
      ]
    },
    {
      "cell_type": "code",
      "source": [
        "values = torch.matmul(attention,v)\n",
        "values.shape"
      ],
      "metadata": {
        "colab": {
          "base_uri": "https://localhost:8080/"
        },
        "id": "_2te7I1xqCIK",
        "outputId": "c5220b42-d47b-4142-df09-d7854cd38be5"
      },
      "execution_count": 36,
      "outputs": [
        {
          "output_type": "execute_result",
          "data": {
            "text/plain": [
              "torch.Size([1, 8, 4, 64])"
            ]
          },
          "metadata": {},
          "execution_count": 36
        }
      ]
    },
    {
      "cell_type": "markdown",
      "source": [
        "function\n"
      ],
      "metadata": {
        "id": "R5KFZs-Ps1pX"
      }
    },
    {
      "cell_type": "code",
      "source": [
        "import torch\n",
        "import torch.nn as nn\n",
        "import math\n",
        "\n",
        "def scaled_dot_product(q, k, v, mask=None):\n",
        "    d_k = q.size()[-1]\n",
        "    scaled = torch.matmul(q, k.transpose(-1, -2)) / math.sqrt(d_k)\n",
        "    if mask is not None:\n",
        "        scaled += mask\n",
        "    attention = F.softmax(scaled, dim=-1)\n",
        "    values = torch.matmul(attention, v)\n",
        "    return values, attention\n",
        "\n"
      ],
      "metadata": {
        "id": "4_DI4P78qhbo"
      },
      "execution_count": 37,
      "outputs": []
    },
    {
      "cell_type": "markdown",
      "source": [
        "Class"
      ],
      "metadata": {
        "id": "cA9Yza_ms72F"
      }
    },
    {
      "cell_type": "code",
      "source": [
        "class MultiheadAttention(nn.Module):\n",
        "\n",
        "    def __init__(self, input_dim, d_model, num_heads):\n",
        "        super().__init__()\n",
        "        self.input_dim = input_dim\n",
        "        self.d_model = d_model\n",
        "        self.num_heads = num_heads\n",
        "        self.head_dim = d_model // num_heads\n",
        "        self.qkv_layer = nn.Linear(input_dim , 3 * d_model)\n",
        "        self.linear_layer = nn.Linear(d_model, d_model)\n",
        "\n",
        "    def forward(self, x, mask=None):\n",
        "        batch_size, sequence_length, input_dim = x.size()\n",
        "        print(f\"x.size(): {x.size()}\")\n",
        "        qkv = self.qkv_layer(x)\n",
        "        print(f\"qkv.size(): {qkv.size()}\")\n",
        "        qkv = qkv.reshape(batch_size, sequence_length, self.num_heads, 3 * self.head_dim)\n",
        "        print(f\"qkv.size(): {qkv.size()}\")\n",
        "        qkv = qkv.permute(0, 2, 1, 3)\n",
        "        print(f\"qkv.size(): {qkv.size()}\")\n",
        "        q, k, v = qkv.chunk(3, dim=-1)\n",
        "        print(f\"q size: {q.size()}, k size: {k.size()}, v size: {v.size()}, \")\n",
        "        values, attention = scaled_dot_product(q, k, v, mask)\n",
        "        print(f\"values.size(): {values.size()}, attention.size:{ attention.size()} \")\n",
        "        values = values.reshape(batch_size, sequence_length, self.num_heads * self.head_dim)\n",
        "        print(f\"values.size(): {values.size()}\")\n",
        "        out = self.linear_layer(values)\n",
        "        print(f\"out.size(): {out.size()}\")\n",
        "        return out\n"
      ],
      "metadata": {
        "id": "c9_RurWcs6tu"
      },
      "execution_count": 38,
      "outputs": []
    },
    {
      "cell_type": "code",
      "source": [
        "input_dim = 1024\n",
        "d_model = 512\n",
        "num_heads = 8\n",
        "\n",
        "batch_size = 30\n",
        "sequence_length = 5\n",
        "x = torch.randn( (batch_size, sequence_length, input_dim) )\n",
        "\n",
        "model = MultiheadAttention(input_dim, d_model, num_heads)\n",
        "out = model.forward(x)"
      ],
      "metadata": {
        "colab": {
          "base_uri": "https://localhost:8080/"
        },
        "id": "QaRtokF1s-s8",
        "outputId": "2a8dd431-bff2-4ec9-8a33-05af74fce575"
      },
      "execution_count": 39,
      "outputs": [
        {
          "output_type": "stream",
          "name": "stdout",
          "text": [
            "x.size(): torch.Size([30, 5, 1024])\n",
            "qkv.size(): torch.Size([30, 5, 1536])\n",
            "qkv.size(): torch.Size([30, 5, 8, 192])\n",
            "qkv.size(): torch.Size([30, 8, 5, 192])\n",
            "q size: torch.Size([30, 8, 5, 64]), k size: torch.Size([30, 8, 5, 64]), v size: torch.Size([30, 8, 5, 64]), \n",
            "values.size(): torch.Size([30, 8, 5, 64]), attention.size:torch.Size([30, 8, 5, 5]) \n",
            "values.size(): torch.Size([30, 5, 512])\n",
            "out.size(): torch.Size([30, 5, 512])\n"
          ]
        }
      ]
    },
    {
      "cell_type": "code",
      "source": [],
      "metadata": {
        "id": "4PBuKm9ZtBoF"
      },
      "execution_count": null,
      "outputs": []
    }
  ]
}